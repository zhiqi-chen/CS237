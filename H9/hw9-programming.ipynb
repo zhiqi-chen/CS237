{
 "cells": [
  {
   "cell_type": "markdown",
   "metadata": {},
   "source": [
    "# Homework 9: Programming Exercises"
   ]
  },
  {
   "cell_type": "markdown",
   "metadata": {},
   "source": [
    "Before you get started you might want to run the following cell (and potentially add your own import lines to it later on):"
   ]
  },
  {
   "cell_type": "code",
   "execution_count": 1,
   "metadata": {},
   "outputs": [],
   "source": [
    "import numpy as np\n",
    "from numpy.random import randint\n",
    "import matplotlib.pyplot as plt\n",
    "import math, random"
   ]
  },
  {
   "cell_type": "markdown",
   "metadata": {},
   "source": [
    "This question is about an experiment we did in the first lecture. We have seen that the following code estimates the answer to the question:\n",
    "\n",
    "> We roll a fair die repeatedly until we roll a 6. How many rolls do we expect given than all the rolls gave even numbers?"
   ]
  },
  {
   "cell_type": "code",
   "execution_count": 27,
   "metadata": {},
   "outputs": [],
   "source": [
    "def single_trial():\n",
    "    num_rolls = 0\n",
    "    while True:\n",
    "        num_rolls = num_rolls + 1\n",
    "        die_roll = randint(1, 7) # fair die roll\n",
    "        if die_roll == 1 or die_roll == 3 or die_roll == 5:\n",
    "            # restart the experiment\n",
    "            num_rolls = 0\n",
    "            continue\n",
    "        if die_roll == 6:\n",
    "            break\n",
    "    return num_rolls\n",
    "\n",
    "# use 10000 trials\n",
    "def estimate_expected_rolls(num_trials = 10000):\n",
    "    total = 0.0\n",
    "    for i in range(num_trials):\n",
    "        total += single_trial()\n",
    "    \n",
    "    return (total / num_trials)"
   ]
  },
  {
   "cell_type": "code",
   "execution_count": 28,
   "metadata": {},
   "outputs": [
    {
     "name": "stdout",
     "output_type": "stream",
     "text": [
      "1.4961\n"
     ]
    }
   ],
   "source": [
    "print(estimate_expected_rolls())"
   ]
  },
  {
   "cell_type": "markdown",
   "metadata": {},
   "source": [
    "You now know that the above question is asking for the conditional expectation of the number of die rolls until we roll a 6, conditioned on the event that all of the rolls are 2, 4, or 6.\n",
    "\n",
    "Consider the following modified version of the above question and experiment. Instead of a fair $6$-sided die, we now have a fair $k$-sided die with the numbers $1$ through $k$ written on it. The question we are interested in is the following:\n",
    "\n",
    "> What is the expected number of rolls of the $k$-sided die until we roll a $6$, given that all the rolls are 2, 4, or 6?"
   ]
  },
  {
   "cell_type": "markdown",
   "metadata": {},
   "source": [
    "### Exercise 1a\n",
    "\n",
    "Write a function that takes as input an integer $k \\geq 6$ and it returns an estimate of the expected number of rolls of the $k$-sided die until we roll a 6, given that all the results are 2, 4, or 6."
   ]
  },
  {
   "cell_type": "code",
   "execution_count": 4,
   "metadata": {},
   "outputs": [
    {
     "name": "stdout",
     "output_type": "stream",
     "text": [
      "2.952\n"
     ]
    }
   ],
   "source": [
    "def single_trial_k(k):\n",
    "    num_rolls = 0\n",
    "    die_list = []\n",
    "    for i in range(k):\n",
    "        die_list.append(2)\n",
    "        die_list.append(4)\n",
    "        die_list.append(6)\n",
    "    while True:\n",
    "        num_rolls = num_rolls + 1\n",
    "        die_roll = random.choice(die_list) # fair die roll\n",
    "        if die_roll == 6:\n",
    "            break\n",
    "    return num_rolls\n",
    "\n",
    "# use 10000 trials\n",
    "def estimate_expected_rolls_k(num_trials = 10000, k = 6):\n",
    "    total = 0.0\n",
    "    for i in range(num_trials):\n",
    "        total += single_trial_k(k)\n",
    "    \n",
    "    return (total / num_trials)\n",
    "\n",
    "print(estimate_expected_rolls_k())"
   ]
  },
  {
   "cell_type": "markdown",
   "metadata": {},
   "source": [
    "### Exercise 1b\n",
    "\n",
    "Next, pick some large values of $k$ and time your code."
   ]
  },
  {
   "cell_type": "code",
   "execution_count": 6,
   "metadata": {},
   "outputs": [
    {
     "name": "stdout",
     "output_type": "stream",
     "text": [
      "estimate for k=100:  2.9459\n",
      "runtime:  0.1740016250000167\n",
      "\n",
      "estimate for k=3000:  3.0104\n",
      "runtime:  3.462776833000021\n",
      "\n",
      "estimate for k=8000:  2.9962\n",
      "runtime:  9.568705874999978\n",
      "\n",
      "estimate for k=10000:  3.016\n",
      "runtime:  11.94788141700002\n",
      "\n"
     ]
    }
   ],
   "source": [
    "import timeit\n",
    "\n",
    "start = timeit.default_timer()\n",
    "print('estimate for k=100: ', estimate_expected_rolls_k(k = 100))\n",
    "stop = timeit.default_timer()\n",
    "print('runtime: ', stop - start)  \n",
    "print()\n",
    "\n",
    "start = timeit.default_timer()\n",
    "print('estimate for k=3000: ', estimate_expected_rolls_k(k = 3000))\n",
    "stop = timeit.default_timer()\n",
    "print('runtime: ', stop - start)  \n",
    "print()\n",
    "\n",
    "start = timeit.default_timer()\n",
    "print('estimate for k=8000: ', estimate_expected_rolls_k(k = 8000))\n",
    "stop = timeit.default_timer()\n",
    "print('runtime: ', stop - start)  \n",
    "print()\n",
    "\n",
    "start = timeit.default_timer()\n",
    "print('estimate for k=10000: ', estimate_expected_rolls_k(k = 10000))\n",
    "stop = timeit.default_timer()\n",
    "print('runtime: ', stop - start)\n",
    "print()\n",
    "\n",
    "pass"
   ]
  },
  {
   "cell_type": "markdown",
   "metadata": {},
   "source": [
    "### Exercise 1c\n",
    "\n",
    "What do you think happens as $k\\to \\infty$?"
   ]
  },
  {
   "cell_type": "markdown",
   "metadata": {},
   "source": [
    "<b>Answer:</b> as $k\\to \\infty$ the runtime will be longer and the estimate will getting closer to 3.00 and being more stable around 3.00"
   ]
  },
  {
   "cell_type": "markdown",
   "metadata": {},
   "source": [
    "## Exercise 2a\n",
    "In this exercise, you will simulate throwing darts at a dartboard at random.  Recall the method for sampling from a disk of radius 1 (Lecture 5, Slide 19).  Let $D$ be the distance from the center of the dartboard (0,0) to the point sampled from the disk.  Average the results of 10,000 samples to give an empirical estimate of Ex$[D]$."
   ]
  },
  {
   "cell_type": "code",
   "execution_count": 29,
   "metadata": {},
   "outputs": [
    {
     "name": "stdout",
     "output_type": "stream",
     "text": [
      "0.7643553015593718\n"
     ]
    }
   ],
   "source": [
    "def single_trial_d():\n",
    "    distance = 0\n",
    "    x = random.uniform(-1, 1)\n",
    "    y = random.uniform(-1, 1)\n",
    "    distance = math.sqrt(x**2 + y**2)\n",
    "    if distance > 1:\n",
    "        single_trial_d()\n",
    "    return distance\n",
    "\n",
    "# use 10000 trials\n",
    "def estimate_expected_rolls_d(num_trials = 10000):\n",
    "    total = 0.0\n",
    "    for i in range(num_trials):\n",
    "        total += single_trial_d()\n",
    "    \n",
    "    return (total / num_trials)\n",
    "\n",
    "print(estimate_expected_rolls_d())"
   ]
  },
  {
   "cell_type": "markdown",
   "metadata": {},
   "source": [
    "## Exercise 2b\n",
    "Observe that the area of the dartboard is $\\pi \\cdot 1^2 = \\pi$ and the area of the square around the dartboard is $2^2 = 4$.  Use the ratio of hits and misses from (2a) to give an estimate for $\\pi$."
   ]
  },
  {
   "cell_type": "code",
   "execution_count": 41,
   "metadata": {},
   "outputs": [
    {
     "name": "stdout",
     "output_type": "stream",
     "text": [
      "3.1448\n"
     ]
    }
   ],
   "source": [
    "def single_trial_throw():\n",
    "    distance = 0\n",
    "    miss = 0\n",
    "    hit = 1\n",
    "    x = random.uniform(-1, 1)\n",
    "    y = random.uniform(-1, 1)\n",
    "    distance = math.sqrt(x**2 + y**2)\n",
    "    if distance > 1:\n",
    "        return miss\n",
    "    else:\n",
    "        return hit\n",
    "\n",
    "# use 10000 trials\n",
    "def estimate_expected_hit(num_trials = 10000):\n",
    "    total = 0.0\n",
    "    for i in range(num_trials):\n",
    "        total += single_trial_throw()\n",
    "    \n",
    "    return (total / num_trials)\n",
    "\n",
    "print(estimate_expected_hit()*4) #Pr(hit) = pi/4, so 4*Pr(hit) = pi"
   ]
  },
  {
   "cell_type": "markdown",
   "metadata": {},
   "source": [
    "## Exercise 2c\n",
    "The simulation method in (2a) wastes some randomness, as samples outside the disk are discarded.  Implement an alternative (discard-free) method for throwing darts at random by picking a random angle $\\Theta$ between (0, 360) degrees and a Distance d from the CDF for $D$ as set up for you below, then translating that into x- and y-coordinates (which we can think of as random variables $X$ and $Y$).  Print Ex$[X]$, Ex$[Y]$, and Ex$[D]$ to verify that your samples turned out as expected. "
   ]
  },
  {
   "cell_type": "code",
   "execution_count": 42,
   "metadata": {},
   "outputs": [
    {
     "data": {
      "image/png": "[encoded data removed]",
      "text/plain": [
       "<Figure size 432x288 with 1 Axes>"
      ]
     },
     "metadata": {
      "needs_background": "light"
     },
     "output_type": "display_data"
    }
   ],
   "source": [
    "#  Sample from D using inverse transform sampling:  https://en.wikipedia.org/wiki/Inverse_transform_sampling\n",
    "#  CDF of D:  x^2                   for x in [0, 1], see lecture notes\n",
    "#  Inverse-CDF of D: \\sqrt(x)       for x in [0, 1]\n",
    "#\n",
    "def inverse_cdf_of_D (x):\n",
    "    return math.sqrt(x)\n",
    "\n",
    "def D ():\n",
    "    uniform_random_sample = random.random()\n",
    "    return inverse_cdf_of_D(uniform_random_sample)\n",
    "\n",
    "samples = [D() for i in range(10000)]\n",
    "\n",
    "# Uncomment lines below to see plot\n",
    "plt.hist(samples, bins=50)\n",
    "plt.show()"
   ]
  },
  {
   "cell_type": "code",
   "execution_count": 55,
   "metadata": {},
   "outputs": [],
   "source": [
    "def discard_free_single_trial_throw():\n",
    "    theta = randint(0, 360)\n",
    "    d = D()\n",
    "    x = d*math.cos(theta)\n",
    "    y = d*math.sin(theta)\n",
    "    result = [x, y, d]\n",
    "    return result"
   ]
  },
  {
   "cell_type": "code",
   "execution_count": 56,
   "metadata": {},
   "outputs": [
    {
     "name": "stdout",
     "output_type": "stream",
     "text": [
      "0.013784973342560392\n",
      "-0.0044652162211087166\n",
      "0.6709033451821534\n"
     ]
    }
   ],
   "source": [
    "def discard_free_estimate_expected_throw(num_trials = 10000):\n",
    "    total_x = 0.0\n",
    "    total_y = 0.0\n",
    "    total_d = 0.0\n",
    "    for i in range(num_trials):\n",
    "        result = discard_free_single_trial_throw()\n",
    "        total_x += result[0]\n",
    "        total_y += result[1]\n",
    "        total_d += result[2]\n",
    "    \n",
    "    print(total_x / num_trials)\n",
    "    print(total_y / num_trials)\n",
    "    print(total_d / num_trials)\n",
    "\n",
    "discard_free_estimate_expected_throw()"
   ]
  },
  {
   "cell_type": "code",
   "execution_count": null,
   "metadata": {},
   "outputs": [],
   "source": []
  }
 ],
 "metadata": {
  "kernelspec": {
   "display_name": "Python 3",
   "language": "python",
   "name": "python3"
  },
  "language_info": {
   "codemirror_mode": {
    "name": "ipython",
    "version": 3
   },
   "file_extension": ".py",
   "mimetype": "text/x-python",
   "name": "python",
   "nbconvert_exporter": "python",
   "pygments_lexer": "ipython3",
   "version": "3.8.8"
  }
 },
 "nbformat": 4,
 "nbformat_minor": 4
}
