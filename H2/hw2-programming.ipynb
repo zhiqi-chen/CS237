{
 "cells": [
  {
   "cell_type": "markdown",
   "metadata": {},
   "source": [
    "# CS 237: Homework 2 Programming Exercises"
   ]
  },
  {
   "cell_type": "code",
   "execution_count": 44,
   "metadata": {},
   "outputs": [],
   "source": [
    "# add your imports here\n",
    "import numpy as np\n",
    "\n",
    "# here are some examples of imports\n",
    "import matplotlib.pyplot as plt   # for plotting\n",
    "from numpy.random import randint # for simulating random choices\n",
    "from collections import Counter # for aggregating the results"
   ]
  },
  {
   "cell_type": "markdown",
   "metadata": {},
   "source": [
    "In the following exercises, we will write Python code to estimate the probabiliites of the outcomes of an experiment using simulation, similarly to our simulations from Lecture 1. As in class, we will use Matplotlib to plot the results. The following Jupyter notebook provides a brief introduction to plotting using Matplotlib:\n",
    "\n",
    "[Jupyter notebook for plotting](https://nbviewer.jupyter.org/github/alinaene/classdemos/blob/master/intro-python.ipynb)\n",
    "\n",
    "You may add cells, functions, and imports to the notebook as needed. You may find the Counter container useful for aggregating the results of the trials:\n",
    "\n",
    "[Counter documentation](https://docs.python.org/3/library/collections.html#collections.Counter)"
   ]
  },
  {
   "cell_type": "markdown",
   "metadata": {},
   "source": [
    "# Exercise 1\n",
    "In this exercise, we will simulate the experiment of rolling a standard $6$-sided die. As in class, we will simulate the experiment $10,000$ times and estimate the probability of each outcome using the fraction of trials in which we observed the outcome. For example, if we rolled a $6$ in $x$ of the $10000$ rolls, we estimate the probability of $6$ as $x/10000$. As we have seen in class, we can use the randint function to simulate a die roll:\n",
    "\n",
    "        die_roll_result = randint(1, 7) # roll a fair 6-sided die once\n",
    "        die_roll_results = randint(1, 7, 10) # roll a fair 6-sided die 10 times\n",
    "Plot the estimated probabilities. The plot should have the outcomes (i.e., the numbers 1 through 6) on the x-axis with the appropriate label, and the estimated probabilities on the y-axis. We suggest using either a bar plot or a histogram. "
   ]
  },
  {
   "cell_type": "code",
   "execution_count": 45,
   "metadata": {},
   "outputs": [
    {
     "data": {
      "image/png": "[encoded data removed]",
      "text/plain": [
       "<Figure size 432x288 with 1 Axes>"
      ]
     },
     "metadata": {
      "needs_background": "light"
     },
     "output_type": "display_data"
    }
   ],
   "source": [
    "def simulate_die_roll(n_trials = 10000):\n",
    "    \"\"\"\n",
    "     Simulates rolling a fair die.\n",
    "     Plots the estimated probability for each outcome.\n",
    "     n_trials is the number of trials we use.\n",
    "    \"\"\"\n",
    "    pass    # your code here\n",
    "\n",
    "    die_roll_results = randint(1, 7, n_trials)\n",
    "    \n",
    "    plt.title('Exercise 1')\n",
    "    plt.xlabel(\"outcomes\")\n",
    "    plt.ylabel(\"estimated probabilities\")\n",
    "    \n",
    "    # make data set\n",
    "    \n",
    "    one = 0\n",
    "    two = 0\n",
    "    three = 0\n",
    "    four = 0\n",
    "    five = 0\n",
    "    six = 0\n",
    "    \n",
    "    for i in die_roll_results:\n",
    "        if i == 1: \n",
    "            one += 1\n",
    "        elif i == 2:\n",
    "            two += 1\n",
    "        elif i == 3:\n",
    "            three += 1\n",
    "        elif i == 4:\n",
    "            four += 1\n",
    "        elif i == 5:\n",
    "            five += 1\n",
    "        elif i == 6:\n",
    "            six += 1\n",
    "            \n",
    "    pr_one = one / n_trials;\n",
    "    pr_two = two / n_trials;\n",
    "    pr_three = three / n_trials;\n",
    "    pr_four = four / n_trials;\n",
    "    pr_five = five / n_trials;\n",
    "    pr_six = six / n_trials;\n",
    "    \n",
    "    bars = ('1', '2', '3', '4', '5', '6')\n",
    "    y_pos = np.arange(len(bars))\n",
    "    \n",
    "    # create bars\n",
    "    plt.bar(y_pos, [pr_one, pr_two, pr_three, pr_four, pr_five, pr_six])\n",
    "    \n",
    "    # create names on the x-axis\n",
    "    plt.xticks(y_pos, bars)\n",
    "    \n",
    "    # show graphic\n",
    "    plt.show()\n",
    "    \n",
    "\n",
    "# run the code\n",
    "simulate_die_roll()"
   ]
  },
  {
   "cell_type": "markdown",
   "metadata": {},
   "source": [
    "# Exercise 2\n",
    "In this exercise, we will simulate the experiment of rolling n standard dice simultaneously, and recording the sum of the numbers obtained. As before, we perform 10000 trials and we estimate each sum as the fraction of the trials in which we observed that particular sum. Plot the observed sums on the x-axis with the sum as the label, and the estimated probabilities on the y-axis."
   ]
  },
  {
   "cell_type": "code",
   "execution_count": 61,
   "metadata": {},
   "outputs": [
    {
     "data": {
      "image/png": "[encoded data removed]",
      "text/plain": [
       "<Figure size 432x288 with 1 Axes>"
      ]
     },
     "metadata": {
      "needs_background": "light"
     },
     "output_type": "display_data"
    }
   ],
   "source": [
    "def simulate_die_roll_sums(n_dice, n_trials = 10000):\n",
    "    \"\"\"\n",
    "     Simulates simultaneously rolling n_dice, and summing the numbers obtained.\n",
    "     Plots the estimated probabilities for each sum.\n",
    "     n_trials is the number of trials we use.\n",
    "    \"\"\"\n",
    "    pass    # your code here\n",
    "\n",
    "    die_roll_sums = randint(1, 7, n_trials)\n",
    "\n",
    "    for i in range(n_dice - 1):\n",
    "        die_roll_results = randint(1, 7, n_trials)\n",
    "        die_roll_sums += die_roll_results\n",
    "    \n",
    "    plt.title('Exercise 2')\n",
    "    plt.xlabel(\"sums\")\n",
    "    plt.ylabel(\"estimated probabilities\")\n",
    "    \n",
    "    bars = []\n",
    "    \n",
    "    for i in range (n_dice*6 + 2):\n",
    "        bars.append(i)\n",
    "        \n",
    "    y_pos = np.arange(len(bars))\n",
    "\n",
    "    plt.hist(die_roll_sums, y_pos, edgecolor='white', density=True)\n",
    "    \n",
    "    # show graphic\n",
    "    plt.show()\n",
    "        \n",
    "\n",
    "# example run with 2 dice\n",
    "simulate_die_roll_sums(2)"
   ]
  },
  {
   "cell_type": "markdown",
   "metadata": {},
   "source": [
    "# Exercise 3\n",
    "In this exercise, we will simulate the experiment of tossing a fair coin until we observe heads for the first time. We can use randint(0,2) to simulate a single coin toss (with 0 standing for Heads and 1 for Tails for instance). As before, we perform 10000 trials of the experiment and estimate the probability of each outcome. Plot the estimated probabilities. On the x-axis, use the number of tosses in the outcome as the label. On the y-axis, place the estimated probability of each outcome observed. "
   ]
  },
  {
   "cell_type": "code",
   "execution_count": 58,
   "metadata": {},
   "outputs": [
    {
     "data": {
      "image/png": "[encoded data removed]",
      "text/plain": [
       "<Figure size 432x288 with 1 Axes>"
      ]
     },
     "metadata": {
      "needs_background": "light"
     },
     "output_type": "display_data"
    }
   ],
   "source": [
    "def simulate_toss_coin_until_heads(n_trials = 10000):\n",
    "    \"\"\"\n",
    "     Simulates tossing a fair coin until we obtain heads for the first time.\n",
    "     Plots the estimated probabilities for each outcome observed.\n",
    "    n_trials is the number of trials we use.\n",
    "    \"\"\"\n",
    "    pass    # your code here\n",
    "\n",
    "    plt.title('Exercise 3')\n",
    "    plt.xlabel(\"number of tosses\")\n",
    "    plt.ylabel(\"estimated probabilities\")\n",
    "\n",
    "    outcomes = []\n",
    "    \n",
    "    for i in range(n_trials):\n",
    "        \n",
    "        coin_roll_results = randint(0, 2)\n",
    "        counter = 1\n",
    "        \n",
    "        while coin_roll_results == 0:\n",
    "            coin_roll_results = randint(0, 2)\n",
    "            counter += 1\n",
    "        \n",
    "        outcomes.append(counter)\n",
    "        \n",
    "    plt.hist(outcomes, edgecolor='white', density=True)\n",
    "    \n",
    "    # show graphic\n",
    "    plt.show()\n",
    "        \n",
    "\n",
    "# run the code\n",
    "simulate_toss_coin_until_heads()"
   ]
  },
  {
   "cell_type": "markdown",
   "metadata": {},
   "source": [
    "# Motivation for simulation\n",
    "For more complicated experiments, it may be difficult to analytically compute the probabilities of outcomes and events of interest. In those scenarios, simulation gives us a way to estimate the desired probabilities. If we perform enough trials, as we will see later in the course, we can often obtain very good estimates."
   ]
  }
 ],
 "metadata": {
  "kernelspec": {
   "display_name": "Python 3",
   "language": "python",
   "name": "python3"
  },
  "language_info": {
   "codemirror_mode": {
    "name": "ipython",
    "version": 3
   },
   "file_extension": ".py",
   "mimetype": "text/x-python",
   "name": "python",
   "nbconvert_exporter": "python",
   "pygments_lexer": "ipython3",
   "version": "3.8.8"
  }
 },
 "nbformat": 4,
 "nbformat_minor": 2
}
