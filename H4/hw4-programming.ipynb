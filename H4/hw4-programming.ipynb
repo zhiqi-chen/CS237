{
 "cells": [
  {
   "cell_type": "markdown",
   "metadata": {},
   "source": [
    "# CS 237: Homework 4 Programming Exercises"
   ]
  },
  {
   "cell_type": "code",
   "execution_count": 9,
   "metadata": {},
   "outputs": [],
   "source": [
    "# add your imports here\n",
    "\n",
    "# here are some examples of imports\n",
    "import matplotlib.pyplot as plt   # for plotting\n",
    "import numpy as np                # for simulating random choices\n",
    "from collections import Counter   # for aggregating the results"
   ]
  },
  {
   "cell_type": "markdown",
   "metadata": {},
   "source": [
    "In the following exercises, we will run simulations of a recommender system that recommends movies to users, as we discussed in class on 9/23, and in this Piazza post: https://piazza.com/class/ksg5aj427qney?cid=126"
   ]
  },
  {
   "cell_type": "markdown",
   "metadata": {},
   "source": [
    "## Step 1: Baseline Movie Ratings\n",
    "\n",
    "We will start by generating baseline star-ratings to movies.  We assume there are $k$ movies in the system, and their ratings are distributed uniformly between 1.0 stars (terrible) and 5.0 stars (awesome)."
   ]
  },
  {
   "cell_type": "code",
   "execution_count": 2,
   "metadata": {},
   "outputs": [],
   "source": [
    "k = 10000\n",
    "movies = np.random.uniform(1.0, 5.0, k)\n",
    "#print (movies)"
   ]
  },
  {
   "cell_type": "markdown",
   "metadata": {},
   "source": [
    "## Exercise 1: Simulating User Populations\n",
    "\n",
    "In this exercise, we ask you to now simulate ratings from two user different populations.  \n",
    "\n",
    "User population 1 consists of random movie-watchers.  They pick movies completely at random, without regard to the underlying rating. After watching movie $i$ with rating $r_i$, they then generate a user rating\n",
    "\n",
    "$u = r_i+ \\delta$\n",
    "\n",
    "where $\\delta$ is uniform on [-1.0, 1.0]\n",
    "\n",
    "and constrain that rating to be in the valid range [1.0, 5.0]\n",
    "\n",
    "$$u = \\max (1.0, u) \\textit{   # round up to 1.0 if needed} $$\n",
    "$$u = \\min (5.0, u) \\textit{   # round down to 5.0 if needed} $$\n",
    "\n",
    "A rating is recorded as the tuple $(i, u)$.\n",
    "\n",
    "Produce a list of 50,000 ratings produced by user population 1 and report the average rating the users generated as average1. \n",
    "\n",
    "====================\n",
    "\n",
    "User population 2 consists of more discriminating users.  They choose movies proportionally to the underlying rating using the following selection probabilities:\n",
    "\n",
    "$$\\Pr[\\text{Select movie } i]  = \\frac{r_i} {\\sum_j {r_j}}$$ \n",
    "\n",
    "They then generate a user rating using the same method as user population 1, except their $\\delta$ is uniform on [-0.5, 0.5]. \n",
    "\n",
    "Produce a list of 50,000 ratings produced by user population 2 and report the average rating the users generated as average2. \n",
    "\n",
    "[Hint:  Implementation time-saver:  consider using the numpy function random.choice() to implement selections for User population 2]\n"
   ]
  },
  {
   "cell_type": "code",
   "execution_count": 3,
   "metadata": {
    "scrolled": true,
    "tags": []
   },
   "outputs": [],
   "source": [
    "#  Your code here to compute average1 and average2\n",
    "\n",
    "####################population1####################\n",
    "\n",
    "u_total_1 = 0\n",
    "\n",
    "for i in range (50000):\n",
    "    u_1 = np.random.choice(movies, 1) + np.random.uniform(-1.0, 1.0, 1)\n",
    "    if u_1 <= 1:\n",
    "        u_1 = max(1.0, u_1)\n",
    "    if u_1 >= 5:\n",
    "        u_1 = min(5.0, u_1)\n",
    "    u_total_1 += u_1\n",
    "\n",
    "average1 = u_total_1/50000\n",
    "\n",
    "####################population2####################\n",
    "\n",
    "u_total_2 = 0\n",
    "\n",
    "rj = 0\n",
    "pr_movies = []\n",
    "\n",
    "rj = sum(movies)\n",
    "\n",
    "for i in range (10000):\n",
    "    pr_movies.append(movies[i]/rj)\n",
    "\n",
    "for i in range (50000):\n",
    "    u_2 = np.random.choice(movies, 1, p = pr_movies) + np.random.uniform(-0.5, 0.5, 1)\n",
    "    if u_2 <= 1:\n",
    "        u_2 = max(1.0, u_2)\n",
    "    if u_2 >= 5:\n",
    "        u_2 = min(5.0, u_2)\n",
    "    u_total_2 += u_2\n",
    "\n",
    "average2 = u_total_2/50000"
   ]
  },
  {
   "cell_type": "code",
   "execution_count": 12,
   "metadata": {},
   "outputs": [
    {
     "name": "stdout",
     "output_type": "stream",
     "text": [
      "[2.98353801] [3.41739585]\n"
     ]
    }
   ],
   "source": [
    "#  Please execute this next line by un-commenting it:\n",
    "print(average1, average2)"
   ]
  },
  {
   "cell_type": "markdown",
   "metadata": {},
   "source": [
    "## Exercise 2: Basic Predictions\n",
    "\n",
    "In this exercise, we ask you to now assess prediction error from different models.  When a user watches a movie $i$ (with rating $r_i$), each model will make a prediction $p$ and the user will provide a rating $u$.\n",
    "\n",
    "Model A only knows about users:  it makes a conservative prediction of $p = 3.0$ for any movie watched by user population 1 and $p = 4.0$ for any movie watched by user population 2.  \n",
    "\n",
    "Model B only knows about movies:  it predicts a value of $p = r_i$ whenever movie $i$ is watched (by any user). \n",
    "\n",
    "Simulate the two models on 50,000 trials of the following form.\n",
    "\n",
    "  - choose a user type uniformly at random between Population 1 and Population 2 (50/50)\n",
    "  - choose a movie at random following that user population's selection method\n",
    "  - compute a predicted rating $p_A$ made by model A\n",
    "  - compute a predicted rating $p_B$ made by model B\n",
    "  - compute a rating $u$ the user generates for that movie\n",
    "  \n",
    "Store the outcomes of all the trials in a list, where the outcome of a trial as a 4-tuple:  (movieID, $u, p_A, p_B$).\n",
    "  \n",
    "\n",
    "Finally, assess the models on how much error it made over all predictions.  For this assignment we'll consider the the mean squared error (MSE).\n",
    "The model error for one trial (for model A) is defined to be $\\epsilon = p_A - u$ and the squared error for one trial is $\\epsilon^2$.  The mean squared error over all trials (for model A) is the average of all 50,000 squared errors $\\epsilon^2$. \n",
    "\n",
    "Compute and report the MSE for Model A and similarly, for Model B.\n",
    "\n",
    "\n"
   ]
  },
  {
   "cell_type": "code",
   "execution_count": 8,
   "metadata": {},
   "outputs": [],
   "source": [
    "#  Your code here to run the 50,000 trials and compute MSE_A and MSE_B\n",
    "\n",
    "total_model_error_square_a = 0\n",
    "total_model_error_square_b = 0\n",
    "movieID = 0\n",
    "u = 0\n",
    "p_a = 0\n",
    "p_b = 0\n",
    "\n",
    "for i in range(50000):\n",
    "    \n",
    "    if np.random.randint(1, 3) == 1:\n",
    "        \n",
    "        ###p_a###\n",
    "        p_a = 3.0\n",
    "        \n",
    "        ###p_b###\n",
    "        p_b = np.random.choice(movies, 1)\n",
    "        \n",
    "        ###movieID#############        \n",
    "        for i in range(10000):\n",
    "            if movies[i] == p_b:\n",
    "                movieID = i\n",
    "        \n",
    "        ###u################################\n",
    "        u = p_b + np.random.uniform(-1.0, 1.0)\n",
    "        if u <= 1:\n",
    "            u = max(1.0, u)\n",
    "        if u >= 5:\n",
    "            u = min(5.0, u)\n",
    "\n",
    "    ########################        \n",
    "            \n",
    "    else:\n",
    "        \n",
    "        ###p_a###\n",
    "        p_a = 4.0\n",
    "        \n",
    "        ###p_b###\n",
    "        rj = 0\n",
    "        pr_movies = []\n",
    "        \n",
    "        for i in range (10000):\n",
    "            rj += movies[i]\n",
    "        for i in range (10000):\n",
    "            pr_movies.append(movies[i]/rj)\n",
    "            \n",
    "        p_b = np.random.choice(movies, 1, p = pr_movies)\n",
    "        \n",
    "        ###movieID#############\n",
    "        for i in range(10000):\n",
    "            if movies[i] == p_b:\n",
    "                movieID = i\n",
    "        \n",
    "        ###u################################\n",
    "        u = p_b + np.random.uniform(-0.5, 0.5)\n",
    "        if u <= 1:\n",
    "            u = max(1.0, u)\n",
    "        if u >= 5:\n",
    "            u = min(5.0, u)\n",
    "            \n",
    "    outcomes = (movieID, u, p_a, p_b)\n",
    "    model_error_a = p_a - u\n",
    "    model_error_b = p_b - u\n",
    "    model_error_square_a = model_error_a * model_error_a\n",
    "    model_error_square_b = model_error_b * model_error_b\n",
    "    total_model_error_square_a += model_error_square_a\n",
    "    total_model_error_square_b += model_error_square_b\n",
    "    \n",
    "MSE_A = total_model_error_square_a/50000\n",
    "MSE_B = total_model_error_square_b/50000"
   ]
  },
  {
   "cell_type": "code",
   "execution_count": 9,
   "metadata": {},
   "outputs": [
    {
     "name": "stdout",
     "output_type": "stream",
     "text": [
      "[1.50871966] [0.21056244]\n"
     ]
    }
   ],
   "source": [
    "#  Please execute this next line by un-commenting it:\n",
    "print(MSE_A, MSE_B)"
   ]
  },
  {
   "cell_type": "markdown",
   "metadata": {},
   "source": [
    "## Exercise 3: Can you do better?\n",
    "\n",
    "Based on your experiments in parts 1 and 2, can you make simple changes to improve upon the existing models?\n",
    "\n",
    "Improve model A just by changing the hard-wired prediction values $p_1 = 3.0$ and/or $p_2 = 4.0$.  Print the new settings for $p_1$ and $p_2$ and print the MSE for this new Model C.\n",
    "\n",
    "It's harder to improve upon model B.  Tell us why in a couple of sentences.\n",
    "Alternatively, impress us by showing that it is possible to do a little better than just predicting $r_i$.\n",
    "\n",
    "\n"
   ]
  },
  {
   "cell_type": "code",
   "execution_count": 8,
   "metadata": {},
   "outputs": [
    {
     "name": "stdout",
     "output_type": "stream",
     "text": [
      "3.0 3.4 [1.29403057]\n"
     ]
    }
   ],
   "source": [
    "#  Your code here to compute MSE_C\n",
    "#  Your code here to run the 50,000 trials and compute MSE_A and MSE_B\n",
    "\n",
    "total_model_error_square_a = 0\n",
    "total_model_error_square_b = 0\n",
    "movieID = 0\n",
    "u = 0\n",
    "p_a = 0\n",
    "p_b = 0\n",
    "\n",
    "for i in range(50000):\n",
    "    \n",
    "    if np.random.randint(1, 3) == 1:\n",
    "        \n",
    "        ###p_a###\n",
    "        p_a = average1\n",
    "        \n",
    "        ###p_b###\n",
    "        p_b = np.random.choice(movies, 1)\n",
    "        \n",
    "        ###movieID#############        \n",
    "        for i in range(10000):\n",
    "            if movies[i] == p_b:\n",
    "                movieID = i\n",
    "        \n",
    "        ###u################################\n",
    "        u = p_b + np.random.uniform(-1.0, 1.0)\n",
    "        if u <= 1:\n",
    "            u = max(1.0, u)\n",
    "        if u >= 5:\n",
    "            u = min(5.0, u)\n",
    "\n",
    "    ########################        \n",
    "            \n",
    "    else:\n",
    "        \n",
    "        ###p_a###\n",
    "        p_a = average2\n",
    "        \n",
    "        ###p_b###\n",
    "        rj = 0\n",
    "        pr_movies = []\n",
    "        \n",
    "        for i in range (10000):\n",
    "            rj += movies[i]\n",
    "        for i in range (10000):\n",
    "            pr_movies.append(movies[i]/rj)\n",
    "            \n",
    "        p_b = np.random.choice(movies, 1, p = pr_movies)\n",
    "        \n",
    "        ###movieID#############\n",
    "        for i in range(10000):\n",
    "            if movies[i] == p_b:\n",
    "                movieID = i\n",
    "        \n",
    "        ###u################################\n",
    "        u = p_b + np.random.uniform(-0.5, 0.5)\n",
    "        if u <= 1:\n",
    "            u = max(1.0, u)\n",
    "        if u >= 5:\n",
    "            u = min(5.0, u)\n",
    "            \n",
    "    model_error_a = p_a - u\n",
    "    model_error_square_a = model_error_a * model_error_a\n",
    "    total_model_error_square_a += model_error_square_a\n",
    "    \n",
    "MSE_C = total_model_error_square_a/50000\n",
    "\n",
    "#  Please execute this next line by un-commenting it:\n",
    "print(p_1, p_2, MSE_C)"
   ]
  },
  {
   "cell_type": "code",
   "execution_count": null,
   "metadata": {
    "tags": []
   },
   "outputs": [],
   "source": [
    "#  Your 1-2 answer below for why it's hard to improve much on Model B, or, code for how you did it.\n",
    "# Because for model B, we don't have a way to find the average rating like we did in exercise for population one\n",
    "# and two. And the rating is totaly random, so it's very hard to predict."
   ]
  },
  {
   "cell_type": "code",
   "execution_count": null,
   "metadata": {},
   "outputs": [],
   "source": []
  }
 ],
 "metadata": {
  "kernelspec": {
   "display_name": "Python 3",
   "language": "python",
   "name": "python3"
  },
  "language_info": {
   "codemirror_mode": {
    "name": "ipython",
    "version": 3
   },
   "file_extension": ".py",
   "mimetype": "text/x-python",
   "name": "python",
   "nbconvert_exporter": "python",
   "pygments_lexer": "ipython3",
   "version": "3.8.8"
  }
 },
 "nbformat": 4,
 "nbformat_minor": 4
}
