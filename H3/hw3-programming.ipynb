{
 "cells": [
  {
   "cell_type": "markdown",
   "metadata": {},
   "source": [
    "# CS 237: Homework 3 Programming Exercises"
   ]
  },
  {
   "cell_type": "code",
   "execution_count": 5,
   "metadata": {},
   "outputs": [],
   "source": [
    "# add your imports here\n",
    "\n",
    "# here are some examples of imports\n",
    "import matplotlib.pyplot as plt   # for plotting\n",
    "from numpy.random import randint # for simulating random choices\n",
    "from collections import Counter # for aggregating the results"
   ]
  },
  {
   "cell_type": "markdown",
   "metadata": {},
   "source": [
    "In the following exercises, we will use simulation to estimate the probability of certain events. Write the code to perform the simulation and print the result. Use 10,000 trials in each case. Please note that, for exercise 2, you need to answer both the code and the explanation. "
   ]
  },
  {
   "cell_type": "markdown",
   "metadata": {},
   "source": [
    "## Exercise 1: Simulation of the Chevalier's bets\n",
    "\n",
    "In this exercise, consider the Chevalier de Mere's dice bets from lecture. Use simulation to estimate the probabilities of winning each bet, i.e., the probabilities of the following events:\n",
    "\n",
    "- A = \"a 6 turns up when rolling a die 4 times\"\n",
    "- B = \"a pair of 6s turns up when rolling two dice 24 times\"\n",
    "\n",
    "Print the estimated probabilities. Are your estimates close to the probabilities we calculated in class?"
   ]
  },
  {
   "cell_type": "code",
   "execution_count": 34,
   "metadata": {},
   "outputs": [
    {
     "name": "stdout",
     "output_type": "stream",
     "text": [
      "Pr(A)= 0.1654\n",
      "Pr(B)=  0.16646249999999976\n"
     ]
    }
   ],
   "source": [
    "# your code here\n",
    "\n",
    "pr_A_total = 0\n",
    "pr_B_total = 0\n",
    "\n",
    "for n in range(10000):\n",
    "    \n",
    "    counter_A = 0\n",
    "    counter_B = 0\n",
    "\n",
    "    die_roll_results_A = randint(1, 7, 4)\n",
    "    for i in die_roll_results_A:   \n",
    "        if i == 6:\n",
    "            counter_A += 1\n",
    "    \n",
    "    pr_A_total += counter_A / 4\n",
    "\n",
    "    die_roll_results_B1 = randint(1, 7, 24)\n",
    "    die_roll_results_B2 = randint(1, 7, 24)\n",
    "\n",
    "    for i in die_roll_results_B1:\n",
    "        if i == 6:\n",
    "            counter_B += 1\n",
    "        \n",
    "    for i in die_roll_results_B2:\n",
    "        if i == 6:\n",
    "            counter_B += 1\n",
    "    \n",
    "    pr_B_total += counter_B / 48\n",
    "    \n",
    "pr_A = pr_A_total / 10000\n",
    "pr_B = pr_B_total / 10000\n",
    "\n",
    "print(\"Pr(A)=\", pr_A)\n",
    "print(\"Pr(B)= \", pr_B)"
   ]
  },
  {
   "cell_type": "markdown",
   "metadata": {},
   "source": [
    "## Exercise 2: Sums of 3 dice\n",
    "\n",
    "In this exercise, we consider another dice betting experiment that puzzled gamblers in the 1600s. Consider the experiment of rolling three dice. We are interested in the following two events: \n",
    "\n",
    "- A = \"The sum of numbers obtained is 9\"\n",
    "- B = \"The sum of the numbers obtained is 10\"\n",
    "\n",
    "Use simulation to estimate the probabilities of the two events. Print the estimated probabilities. According to your simulation, which event is more likely?"
   ]
  },
  {
   "cell_type": "code",
   "execution_count": 41,
   "metadata": {},
   "outputs": [
    {
     "name": "stdout",
     "output_type": "stream",
     "text": [
      "Pr(A)= 0.1172\n",
      "Pr(B)=  0.1286\n"
     ]
    }
   ],
   "source": [
    "# your code here\n",
    "\n",
    "counter_9 = 0\n",
    "counter_10 = 0\n",
    "\n",
    "die_roll_results_1 = randint(1, 7, 10000)\n",
    "die_roll_results_2 = randint(1, 7, 10000)\n",
    "die_roll_results_3 = randint(1, 7, 10000)\n",
    "    \n",
    "die_roll_sums = die_roll_results_1 + die_roll_results_2 + die_roll_results_3\n",
    "for i in die_roll_sums:\n",
    "    if i == 9:\n",
    "        counter_9 += 1\n",
    "    if i == 10:\n",
    "        counter_10 += 1\n",
    "        \n",
    "pr_A = counter_9 / 10000\n",
    "pr_B = counter_10 / 10000\n",
    "\n",
    "print(\"Pr(A)=\", pr_A)\n",
    "print(\"Pr(B)= \", pr_B)"
   ]
  },
  {
   "cell_type": "markdown",
   "metadata": {},
   "source": [
    "The experience of gamblers in the 1600s had been that A is less likely than B. This empirical result puzzled the gamblers for the following reason. They counted the number of triples of integers from 1 to 6 with sum 9 and found it to be the same as the number of triples with sum 10. Can you explain this apparent discrepancy?"
   ]
  },
  {
   "cell_type": "markdown",
   "metadata": {},
   "source": [
    "**Your explanation here:** \n",
    "When rolling the three dices, the probabilities of getting 1, 2, 3, 4, 5, and 6 for each dice are almost the same. However, the possible combinations of sum 10 are more than sum 9."
   ]
  }
 ],
 "metadata": {
  "kernelspec": {
   "display_name": "Python 3",
   "language": "python",
   "name": "python3"
  },
  "language_info": {
   "codemirror_mode": {
    "name": "ipython",
    "version": 3
   },
   "file_extension": ".py",
   "mimetype": "text/x-python",
   "name": "python",
   "nbconvert_exporter": "python",
   "pygments_lexer": "ipython3",
   "version": "3.8.8"
  }
 },
 "nbformat": 4,
 "nbformat_minor": 2
}
