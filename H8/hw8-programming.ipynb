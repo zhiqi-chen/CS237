{
 "cells": [
  {
   "cell_type": "markdown",
   "metadata": {},
   "source": [
    "# Homework 8: Programming Exercises\n",
    "\n",
    "\n"
   ]
  },
  {
   "cell_type": "markdown",
   "metadata": {},
   "source": [
    "Before you get started you might want to run the following cell (and potentially add your own import lines to it later on):"
   ]
  },
  {
   "cell_type": "code",
   "execution_count": 1,
   "metadata": {},
   "outputs": [],
   "source": [
    "import numpy as np\n",
    "from numpy.random import randint\n",
    "import matplotlib.pyplot as plt\n",
    "from collections import Counter"
   ]
  },
  {
   "cell_type": "markdown",
   "metadata": {},
   "source": [
    "## Exercise 1\n",
    "Each day, around midday, a long line forms at the Warren Tower Subway. People line up to get their favorite lunch options. The time (in minutes) it takes to make and sell a sub depends on the type of order, and we model it as a real number chosen uniformly and independently at random from the interval [0,15]. For simplicity, we will assume that only one order is processed at a time, and that each order is placed in the exact moment in which the previous sub is ready. \n",
    "\n",
    "Let $X$ be the random variable equal to the number of people that place an order in 15 minutes.\n",
    "\n",
    "<b>Example:</b> If the first person's sub takes 4.3 minutes to make, the second person's sub takes 7.7 minutes, and the third person's sub takes 4.475 minutes, then $X = 3$ (even if the third person's sub is not done in the 15 minute window)."
   ]
  },
  {
   "cell_type": "markdown",
   "metadata": {},
   "source": [
    "Write a function that empirically estimates $\\mathrm{Ex}(X)$. Use a sufficiently large number of trials (e.g., 10000) and have your function return the estimated value."
   ]
  },
  {
   "cell_type": "code",
   "execution_count": 2,
   "metadata": {},
   "outputs": [
    {
     "name": "stdout",
     "output_type": "stream",
     "text": [
      "2.7256\n"
     ]
    }
   ],
   "source": [
    "# Your solution here\n",
    "def estimate_expected_orders(num_trials=10000):\n",
    "    X_total = 0\n",
    "    trials_counter = 1\n",
    "    for trials in range(num_trials):\n",
    "        time_used = 0.00\n",
    "        counter_X = 0\n",
    "        while time_used < 15.00:\n",
    "            time_type = np.random.uniform(0, 15)\n",
    "            time_used += time_type\n",
    "            counter_X += 1\n",
    "        X_total += counter_X\n",
    "        trials_counter += 1\n",
    "    Ex_X = X_total / num_trials\n",
    "    return Ex_X\n",
    "\n",
    "print(estimate_expected_orders())"
   ]
  },
  {
   "cell_type": "markdown",
   "metadata": {},
   "source": [
    "## Exercise 2\n",
    "\n",
    "You invest in a stock originally worth $\\$ 0$. The value of the stock goes up or down by exactly $\\$ 1$ each day with equal probability, potentially going in the negatives. Let $S_i$ be the value of the stock on day $i$. We track the value of the stock for a year (365 days). Note that at the end of the year, the value $S_{365}$ is some integer number between -365 and 365.\n",
    "\n",
    "Let $P$ be the number of days $i$ in which $S_i >0$. Note that $P$ is some integer between 0 and 365.\n",
    "\n",
    "<b>Think:</b> what do you think the distribution of $P$ looks like?\n",
    "\n",
    "In this exercise we will answer this question via simulation."
   ]
  },
  {
   "cell_type": "markdown",
   "metadata": {},
   "source": [
    "### Exercise 2(a)\n",
    "Write a function that gives you the increment in stock value in a day."
   ]
  },
  {
   "cell_type": "code",
   "execution_count": 3,
   "metadata": {},
   "outputs": [],
   "source": [
    "# Your code here\n",
    "\n",
    "def one_day_stock_increase():\n",
    "    # returns +/- 1 with probability 1/2\n",
    "    possible_outcomes = [-1, 1]\n",
    "    return np.random.choice(possible_outcomes, size = 1, p = [0.5, 0.5])"
   ]
  },
  {
   "cell_type": "markdown",
   "metadata": {},
   "source": [
    "### Exercise 2(b)\n",
    "\n",
    "Write a function that keeps track of the value $S_i$ of the stock every day for one year, and counts the number of days in which $S_i$ is positive."
   ]
  },
  {
   "cell_type": "code",
   "execution_count": 4,
   "metadata": {
    "scrolled": true
   },
   "outputs": [],
   "source": [
    "# Your code here\n",
    "\n",
    "def number_of_positive_days_in_year():\n",
    "    # Simulates the stock value for a year by calling the above function 365 times \n",
    "    # and adding the new change each time.\n",
    "    # Counts and returns the value of P, the number of days in which the stock value is positive.\n",
    "    stock_value = 0\n",
    "    P = 0\n",
    "    for days in range(365):\n",
    "        change_value = one_day_stock_increase()\n",
    "        stock_value += change_value\n",
    "        if stock_value > 0:\n",
    "            P += 1\n",
    "    return P"
   ]
  },
  {
   "cell_type": "markdown",
   "metadata": {},
   "source": [
    "### Exercise 2(c)\n",
    "\n",
    "Estimate the PDF of $P$ by running the above function multiple times and plotting the histogram of results. The code for plotting is provided for you below."
   ]
  },
  {
   "cell_type": "code",
   "execution_count": 5,
   "metadata": {},
   "outputs": [],
   "source": [
    "# helper function to plot the empirical distribution as a bar chart\n",
    "# here we are only displaying a subset of the x-labels\n",
    "#   since otherwise the x-labels would not be readable\n",
    "def plot_results(results, title, num_labels = 10):\n",
    "    summary = Counter(results)\n",
    "    x = [i for i in range(min(results),max(results)+1) if summary[i] != 0]\n",
    "    y = [summary[i]/ len(results) for i in x]\n",
    "    \n",
    "    # the xvalues are displayed at positions 0, 1, 2, ...\n",
    "    plt.bar(np.arange(len(x)), y, align='center')\n",
    "    \n",
    "    # display a small number of x-labels\n",
    "    xinc = (int) (len(x) / num_labels)\n",
    "    xcoords = [i * xinc for i in range(num_labels) if i * xinc < len(x) - 1]\n",
    "    xcoords.append(len(x) - 1) # also add the maximum value\n",
    "    xlabels = [x[i] for i in xcoords]\n",
    "    \n",
    "    plt.xticks(xcoords, xlabels)\n",
    "    plt.title(title)\n",
    "    plt.show()"
   ]
  },
  {
   "cell_type": "code",
   "execution_count": 6,
   "metadata": {},
   "outputs": [
    {
     "data": {
      "image/png": "[encoded data removed]",
      "text/plain": [
       "<Figure size 432x288 with 1 Axes>"
      ]
     },
     "metadata": {
      "needs_background": "light"
     },
     "output_type": "display_data"
    }
   ],
   "source": [
    "# Your code here\n",
    "\n",
    "def estimate_P(num_trials=10000):\n",
    "    # runs the above function num_trials times and plots the histogram of results\n",
    "    results = []\n",
    "    title = \"PDF of P\"\n",
    "    for trails in range(num_trials):\n",
    "        results.append(number_of_positive_days_in_year())\n",
    "    plot_results(results, title, num_labels = 10)\n",
    "    \n",
    "estimate_P()"
   ]
  },
  {
   "cell_type": "markdown",
   "metadata": {},
   "source": [
    "<b>Think:</b> Was this the result you expected?"
   ]
  },
  {
   "cell_type": "code",
   "execution_count": null,
   "metadata": {},
   "outputs": [],
   "source": [
    "# It's a little different from my expectation. \n",
    "# I expected that numbers around 0 would be a lot, \n",
    "# but I didn't expect that numbers around 365 would be this many also."
   ]
  }
 ],
 "metadata": {
  "kernelspec": {
   "display_name": "Python 3",
   "language": "python",
   "name": "python3"
  },
  "language_info": {
   "codemirror_mode": {
    "name": "ipython",
    "version": 3
   },
   "file_extension": ".py",
   "mimetype": "text/x-python",
   "name": "python",
   "nbconvert_exporter": "python",
   "pygments_lexer": "ipython3",
   "version": "3.8.8"
  }
 },
 "nbformat": 4,
 "nbformat_minor": 4
}
